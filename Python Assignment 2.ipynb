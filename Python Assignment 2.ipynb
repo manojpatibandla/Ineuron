{
 "cells": [
  {
   "cell_type": "code",
   "execution_count": 38,
   "metadata": {},
   "outputs": [
    {
     "name": "stdout",
     "output_type": "stream",
     "text": [
      "Maximum length in the pattern: 6\n",
      "\n",
      "*\n",
      "**\n",
      "***\n",
      "****\n",
      "*****\n",
      "******\n",
      "*****\n",
      "****\n",
      "***\n",
      "**\n",
      "*\n",
      "\n"
     ]
    }
   ],
   "source": [
    "# Create the pattern using nested for loop in Python.\n",
    "\n",
    "rows= int(input(\"Maximum length in the pattern: \"))\n",
    "ptrn='*'\n",
    "\n",
    "for i in range(rows+1):\n",
    "    print(ptrn * i)\n",
    "    if i == rows:\n",
    "        for j in range(rows):\n",
    "            print(ptrn * ((rows-1)-j))"
   ]
  },
  {
   "cell_type": "code",
   "execution_count": 40,
   "metadata": {},
   "outputs": [
    {
     "name": "stdout",
     "output_type": "stream",
     "text": [
      "Enter the Word:ineuron\n",
      "norueni\n"
     ]
    }
   ],
   "source": [
    "#Write a Python program to reverse a word after accepting the input from the user\n",
    "\n",
    "#accept the word and convert into list\n",
    "inpt_wrd = list(input(\"Enter the Word:\"))\n",
    "#reverse the list\n",
    "inpt_wrd.reverse()\n",
    "#Print the variables in the list in reverese order\n",
    "print(''.join(inpt_wrd))\n"
   ]
  }
 ],
 "metadata": {
  "kernelspec": {
   "display_name": "Python 3",
   "language": "python",
   "name": "python3"
  },
  "language_info": {
   "codemirror_mode": {
    "name": "ipython",
    "version": 3
   },
   "file_extension": ".py",
   "mimetype": "text/x-python",
   "name": "python",
   "nbconvert_exporter": "python",
   "pygments_lexer": "ipython3",
   "version": "3.6.5"
  }
 },
 "nbformat": 4,
 "nbformat_minor": 2
}
