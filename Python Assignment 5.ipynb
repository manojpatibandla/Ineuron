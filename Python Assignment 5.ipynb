{
 "cells": [
  {
   "cell_type": "code",
   "execution_count": 5,
   "metadata": {},
   "outputs": [
    {
     "name": "stdout",
     "output_type": "stream",
     "text": [
      "Cannot Divide any number with Zero\n"
     ]
    }
   ],
   "source": [
    "#Write a function to compute 5/0 and use try/except to catch the exceptions.\n",
    "\n",
    "try:\n",
    "    5/0\n",
    "except ZeroDivisionError:\n",
    "    print(\"Cannot Divide any number with Zero\")\n",
    "except:\n",
    "    print(\"Some other fatal error occurred\")"
   ]
  },
  {
   "cell_type": "code",
   "execution_count": 20,
   "metadata": {},
   "outputs": [
    {
     "name": "stdout",
     "output_type": "stream",
     "text": [
      "Americans Play Baseball.\n",
      "Americans Play cricket.\n",
      "Americans watch Baseball.\n",
      "Americans watch cricket.\n",
      "Indians Play Baseball.\n",
      "Indians Play cricket.\n",
      "Indians watch Baseball.\n",
      "Indians watch cricket.\n"
     ]
    }
   ],
   "source": [
    "#Implement a Python program to generate all sentences where subject is in\n",
    "#[\"Americans\", \"Indians\"] and verb is in [\"Play\", \"watch\"] and the object is in\n",
    "#[\"Baseball\",\"cricket\"].\n",
    "\n",
    "s = [\"Americans\", \"Indians\"]\n",
    "v = [\"Play\", \"watch\"]\n",
    "o = [\"Baseball\",\"cricket\"]\n",
    "\n",
    "class form_sent:\n",
    "    #This class will accept the list and print the ouput\n",
    "    try:\n",
    "        def __init__(self,**kwargs):\n",
    "            self.subject = kwargs.get('sub')\n",
    "            self.verb    = kwargs.get('ver')\n",
    "            self.object  = kwargs.get('obj')\n",
    "    except:\n",
    "        print(\"Fatal Error while assigning the values in init function\")\n",
    "    \n",
    "    try:\n",
    "        def print_sent(self):\n",
    "            for i in self.subject:\n",
    "                for j in self.verb:\n",
    "                    for k in self.object:\n",
    "                        print(i+\" \"+j+\" \"+k+\".\")\n",
    "    except:\n",
    "        print(\"Fatal Error during execution of the logic\")\n",
    "\n",
    "get_sent = form_sent(sub=s,ver=v,obj=o)\n",
    "get_sent.print_sent()"
   ]
  }
 ],
 "metadata": {
  "kernelspec": {
   "display_name": "Python 3",
   "language": "python",
   "name": "python3"
  },
  "language_info": {
   "codemirror_mode": {
    "name": "ipython",
    "version": 3
   },
   "file_extension": ".py",
   "mimetype": "text/x-python",
   "name": "python",
   "nbconvert_exporter": "python",
   "pygments_lexer": "ipython3",
   "version": "3.6.5"
  }
 },
 "nbformat": 4,
 "nbformat_minor": 2
}
