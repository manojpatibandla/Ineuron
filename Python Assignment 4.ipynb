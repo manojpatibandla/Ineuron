{
 "cells": [
  {
   "cell_type": "code",
   "execution_count": 34,
   "metadata": {},
   "outputs": [
    {
     "name": "stdout",
     "output_type": "stream",
     "text": [
      "Enter Side 1 of the triangle: 12\n",
      "Enter Side 2 of the triangle: 16\n",
      "Enter Side 3 of the triangle: 20\n",
      "Area of the triangle is: 96.0\n"
     ]
    }
   ],
   "source": [
    "#Write a Python Program(with class concepts) to find the area of the triangle using the below formula\n",
    "#area = (s*(s-a)*(s-b)*(s-c)) ** 0.5\n",
    "#Function to take the length of the sides of triangle from user should be defined in the parent\n",
    "#class and function to calculate the area should be defined in subclass\n",
    "\n",
    "class triangle:\n",
    "    #This Class is used to accept the sides of the triange as a input\n",
    "    #and calculate the area of the triangle\n",
    "    def __init__(self,a,b,c):\n",
    "        self.a = a\n",
    "        self.b = b\n",
    "        self.c = c\n",
    "\n",
    "class cal_area(triangle):\n",
    "    #This is the subclass to calculate the area of a triangle\n",
    "    def __init__(self,*args):\n",
    "        self.cal_s = cal_s(*args)\n",
    "        super().__init__(*args)\n",
    "    \n",
    "    def area(self):\n",
    "        s = (self.a + self.b + self.c)*0.5\n",
    "        area = (s*(s-self.a)*(s-self.b)*(s-self.c)) ** 0.5\n",
    "        print(\"Area of the triangle is: {}\".format(area))\n",
    "\n",
    "        \n",
    "#Call the Class\n",
    "s1 = int(input(\"Enter Side 1 of the triangle: \"))\n",
    "s2 = int(input(\"Enter Side 2 of the triangle: \"))\n",
    "s3 = int(input(\"Enter Side 3 of the triangle: \"))\n",
    "\n",
    "area1 = cal_area(s1,s2,s3)\n",
    "area1.area()"
   ]
  },
  {
   "cell_type": "code",
   "execution_count": 39,
   "metadata": {},
   "outputs": [
    {
     "name": "stdout",
     "output_type": "stream",
     "text": [
      "['asdsa', 'asf', 'asds']\n"
     ]
    }
   ],
   "source": [
    "#2 Write a function filter_long_words() that takes a list of words and an integer n and returns\n",
    "#the list of words that are longer than n\n",
    "def filter_long_words(x:list,i:int):\n",
    "    l = []\n",
    "    for idx in x:\n",
    "        if len(idx)>n:\n",
    "            l.append(idx)\n",
    "    print(l)\n",
    "\n",
    "test_list = ['asdsa','asf','asds','as','a']\n",
    "n = 2\n",
    "filter_long_words(test_list,n)"
   ]
  },
  {
   "cell_type": "code",
   "execution_count": 42,
   "metadata": {},
   "outputs": [
    {
     "name": "stdout",
     "output_type": "stream",
     "text": [
      "[2, 3, 4]\n"
     ]
    }
   ],
   "source": [
    "#Write a Python program using function concept that maps list of words into a list of integers\n",
    "#representing the lengths of the corresponding words.\n",
    "def length_list_elm(x:list):\n",
    "    l = []\n",
    "    for idx in x:\n",
    "        l.append(len(idx))\n",
    "    print(l)\n",
    "\n",
    "test_list = ['ab','cde','erty']\n",
    "length_list_elm(test_list)"
   ]
  },
  {
   "cell_type": "code",
   "execution_count": 47,
   "metadata": {},
   "outputs": [
    {
     "data": {
      "text/plain": [
       "False"
      ]
     },
     "execution_count": 47,
     "metadata": {},
     "output_type": "execute_result"
    }
   ],
   "source": [
    "#Write a Python function which takes a character (i.e. a string of length 1) and returns True if\n",
    "#it is a vowel, False otherwise.\n",
    "def find_vowel(x:str):\n",
    "    if len(x) != 1:\n",
    "        print(\"Input character should of length:1\")\n",
    "        return False\n",
    "    if x not in ['a','e','i','o','u']: \n",
    "        return False\n",
    "    else:\n",
    "        return True\n",
    "\n",
    "find_vowel('x')"
   ]
  }
 ],
 "metadata": {
  "kernelspec": {
   "display_name": "Python 3",
   "language": "python",
   "name": "python3"
  },
  "language_info": {
   "codemirror_mode": {
    "name": "ipython",
    "version": 3
   },
   "file_extension": ".py",
   "mimetype": "text/x-python",
   "name": "python",
   "nbconvert_exporter": "python",
   "pygments_lexer": "ipython3",
   "version": "3.6.5"
  }
 },
 "nbformat": 4,
 "nbformat_minor": 2
}
