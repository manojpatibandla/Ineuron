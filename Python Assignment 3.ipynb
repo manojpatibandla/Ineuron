{
 "cells": [
  {
   "cell_type": "code",
   "execution_count": 148,
   "metadata": {},
   "outputs": [
    {
     "name": "stdout",
     "output_type": "stream",
     "text": [
      "55\n",
      "55\n",
      "55\n"
     ]
    }
   ],
   "source": [
    "#1.Write a Python Program to implement your own myreduce() function which works exactly\n",
    "#like Python's built-in function reduce()\n",
    "from inspect import signature\n",
    "from functools import reduce\n",
    "\n",
    "def myreduce(func,iterable):\n",
    "    #Check the Input Parameters\n",
    "    if callable(func) != True:\n",
    "        return print(\"First argument should be a function\")\n",
    "    try:\n",
    "        iterator = iter(iterable)\n",
    "    except TypeError:\n",
    "        return print(\"Second argument should be a Iterable Object\")\n",
    "    \n",
    "    #Now get the number of arguments for the function\n",
    "    #There should be atleast of two arguments\n",
    "    sig = signature(func)\n",
    "    parm_len = len(sig.parameters)\n",
    "    if parm_len != 2:\n",
    "        return print(\"Function should have two parameters\")\n",
    "    else:\n",
    "        #Now pass each item in the iterable as a argument into the function\n",
    "        def subfunc(func1,iterable1):\n",
    "            for i in iterable1:\n",
    "                if iterable1.index(i) == 0:\n",
    "                    a = iterable1.index(i)\n",
    "                    b = iterable1.index(i+1)\n",
    "                    c = func(int(iterable1[a]),int(iterable1[b]))\n",
    "                elif iterable1.index(i) < len(iterable1) and iterable1.index(i) != 1:\n",
    "                    a = c\n",
    "                    b = iterable1.index(i)\n",
    "                    c = func1(a,int(iterable1[b]))\n",
    "            yield c\n",
    "        final_list = list(subfunc(func,iterable))\n",
    "        return max(final_list)\n",
    "\n",
    "def addtn(x,y):\n",
    "    return x+y\n",
    "\n",
    "l = [1,2,3,4,5,6,7,8,9,10]\n",
    "\n",
    "#Calling myreduce using a pre-defined function\n",
    "print(myreduce(addtn,l))\n",
    "\n",
    "#Calling myreduce using lambda function\n",
    "print(myreduce(lambda x,y: x+y,l))\n",
    "\n",
    "#Python's reduce function\n",
    "print(reduce(addtn,l))"
   ]
  },
  {
   "cell_type": "code",
   "execution_count": 30,
   "metadata": {},
   "outputs": [
    {
     "name": "stdout",
     "output_type": "stream",
     "text": [
      "['a', 'i', 'a', 'o', 'a', 'i', 'a', 'a']\n",
      "[2, 4, 6, 8, 0]\n",
      "['a', 'i', 'a', 'o', 'a', 'i', 'a', 'a']\n",
      "[2, 4, 6, 8, 0]\n"
     ]
    }
   ],
   "source": [
    "#2.Write a Python program to implement your own myfilter() function which works exactly\n",
    "#like Python's built-in function filter()\n",
    "from inspect import signature\n",
    "def myfilter(func,iterable):\n",
    "    #Check the Input Parameters\n",
    "    if callable(func) != True:\n",
    "        return print(\"First argument should be a function\")\n",
    "    try:\n",
    "        iterator = iter(iterable)\n",
    "    except TypeError:\n",
    "        return print(\"Second argument should be a Iterable Object\")\n",
    "    \n",
    "    #Now get the number of arguments for the function\n",
    "    #There should be atleast of two arguments\n",
    "    sig = signature(func)\n",
    "    parm_len = len(sig.parameters)\n",
    "    if parm_len != 1:\n",
    "        return print(\"Function should only have one parameter\")\n",
    "    else:\n",
    "        #Now pass each item in the iterable as a argument into the function\n",
    "        local_list = []\n",
    "        for i in iterable:\n",
    "            if func(i) == True:\n",
    "                local_list.append(i)\n",
    "            \n",
    "        return local_list\n",
    "\n",
    "l = ['s','a','i','m','a','n','o','j','p','a','t','i','b','a','n','d','l','a']\n",
    "\n",
    "#calling myfilter function using a lambda function\n",
    "print(list(myfilter(lambda x: x in ['a','e','i','o','u'],l)))\n",
    "print(list(myfilter(lambda x: x % 2 == 0,[1,2,3,4,5,6,7,8,9,0])))\n",
    "\n",
    "#calling filter function using a lambda function\n",
    "print(list(filter(lambda x: x in ['a','e','i','o','u'],l)))\n",
    "print(list(filter(lambda x: x % 2 == 0,[1,2,3,4,5,6,7,8,9,0])))"
   ]
  },
  {
   "cell_type": "code",
   "execution_count": 134,
   "metadata": {},
   "outputs": [
    {
     "name": "stdout",
     "output_type": "stream",
     "text": [
      "['x', 'xx', 'xxx', 'xxxx', 'y', 'yy', 'yyy', 'yyyy', 'z', 'zz', 'zzz', 'zzzz']\n",
      "['x', 'y', 'z', 'xx', 'yy', 'zz', 'xxx', 'yyy', 'zzz', 'xxxx', 'yyyy', 'zzzz']\n",
      "[[2], [3], [4], [3], [4], [5], [4], [5], [6]]\n",
      "[[2, 3, 4, 5], [3, 4, 5, 6], [4, 5, 6, 7], [5, 6, 7, 8]]\n",
      "[(1, 1), (2, 1), (3, 1), (1, 2), (2, 2), (3, 2), (1, 3), (2, 3), (3, 3)]\n"
     ]
    }
   ],
   "source": [
    "#Implement List comprehensions to produce lists\n",
    "test_list = ['x','y','z']\n",
    "l = [c for b in [[a,a+a,a+a+a,a+a+a+a] for a in test_list] for c in b]\n",
    "print(l)\n",
    "\n",
    "m = [a for a in test_list] + [b+b for b in test_list] + [c+c+c for c in test_list] + [d+d+d+d for d in test_list]\n",
    "print(m)\n",
    "\n",
    "n = [c for b in [[[a+1],[a+2],[a+3]] for a in range(1,4)] for c in b]\n",
    "print(n)\n",
    "\n",
    "o = [[a+1,a+2,a+3,a+4] for a in range(1,5)]\n",
    "print(o)\n",
    "\n",
    "p = [c for b in [[(1,a),(2,a),(3,a)] for a in range(1,4)] for c in b] \n",
    "print(p)"
   ]
  }
 ],
 "metadata": {
  "kernelspec": {
   "display_name": "Python 3",
   "language": "python",
   "name": "python3"
  },
  "language_info": {
   "codemirror_mode": {
    "name": "ipython",
    "version": 3
   },
   "file_extension": ".py",
   "mimetype": "text/x-python",
   "name": "python",
   "nbconvert_exporter": "python",
   "pygments_lexer": "ipython3",
   "version": "3.6.5"
  }
 },
 "nbformat": 4,
 "nbformat_minor": 2
}
