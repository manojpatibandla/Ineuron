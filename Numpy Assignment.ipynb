{
 "cells": [
  {
   "cell_type": "code",
   "execution_count": 4,
   "metadata": {},
   "outputs": [
    {
     "name": "stdout",
     "output_type": "stream",
     "text": [
      "Please enter the list of comma separated numbers\n",
      ">>>1,6,3,8\n",
      "[1, 6, 3, 8]\n",
      "Please enter the number of columns required in the matrix\n",
      ">>>4\n",
      "Output Matrix with Increasing as False\n",
      "[[  1   1   1   1]\n",
      " [216  36   6   1]\n",
      " [ 27   9   3   1]\n",
      " [512  64   8   1]]\n",
      "Output Matrix with Increasing as True\n",
      "[[  1   1   1   1]\n",
      " [  1   6  36 216]\n",
      " [  1   3   9  27]\n",
      " [  1   8  64 512]]\n"
     ]
    }
   ],
   "source": [
    "#Write a function so that the columns of the output matrix are powers of the input vector.\n",
    "\n",
    "import numpy as np\n",
    "\n",
    "def vndrmnde_mtx():\n",
    "    print(\"Enter the list of comma separated numbers\")\n",
    "    input_lst = input(\">>>\")\n",
    "    lst = list(map(int,input_lst.split(',')))\n",
    "    print(lst)\n",
    "    print(\"Enter the number of columns required in the matrix\")\n",
    "    num_of_cols = int(input(\">>>\"))\n",
    "    x = np.array(lst)\n",
    "    #Calling the inbuild Vander function to create the output matrix\n",
    "    mtx1 = np.vander(x,num_of_cols)\n",
    "    print(\"Output Matrix with Increasing as False\")\n",
    "    print(mtx1)\n",
    "    #Calling with increasing as True\n",
    "    print(\"Output Matrix with Increasing as True\")\n",
    "    mtx1 = np.vander(x,num_of_cols,increasing=True)\n",
    "    print(mtx1)\n",
    "\n",
    "vndrmnde_mtx()"
   ]
  },
  {
   "cell_type": "code",
   "execution_count": 25,
   "metadata": {},
   "outputs": [
    {
     "name": "stdout",
     "output_type": "stream",
     "text": [
      "Enter the sequence of numbers\n",
      ">>>>3, 5, 7, 2, 8, 10, 11, 65, 72, 81, 99, 100, 150\n",
      "Enter the Window size\n",
      ">>>>3\n",
      "Length of input list: 13\n",
      "The Output Sequence is as below\n",
      "######################################\n",
      "[  5   4   5   6   9  28  49  72  84  93 116]\n",
      "Length of Output Sequence: 11\n"
     ]
    }
   ],
   "source": [
    "# Write a function to find moving average in an array over a window:\n",
    "\n",
    "import sys\n",
    "import numpy as np\n",
    "\n",
    "def moving_avg():\n",
    "    print(\"Enter the sequence of numbers\")\n",
    "    input_seq = input(\">>>>\")\n",
    "    print(\"Enter the Window size\")\n",
    "    win_size = int(input(\">>>>\"))\n",
    "    if win_size <= 0:\n",
    "        sys.exit(\"Window size should be greater than Zero(0)\")\n",
    "    input_lst = list(map(int,input_seq.split(',')))\n",
    "    len_lst = len(input_lst)\n",
    "    print(\"Length of input list: {}\".format(len_lst))\n",
    "    x = np.array(input_lst)\n",
    "    out_seq = np.convolve(x,np.ones(win_size, dtype = int)/win_size,'valid').astype('int32')\n",
    "    print(\"The Output Sequence is as below\")\n",
    "    print(\"######################################\")\n",
    "    print(out_seq)\n",
    "    print(\"Length of Output Sequence: {}\".format(len(out_seq)))\n",
    "\n",
    "moving_avg()"
   ]
  }
 ],
 "metadata": {
  "kernelspec": {
   "display_name": "Python 3",
   "language": "python",
   "name": "python3"
  },
  "language_info": {
   "codemirror_mode": {
    "name": "ipython",
    "version": 3
   },
   "file_extension": ".py",
   "mimetype": "text/x-python",
   "name": "python",
   "nbconvert_exporter": "python",
   "pygments_lexer": "ipython3",
   "version": "3.6.5"
  }
 },
 "nbformat": 4,
 "nbformat_minor": 2
}
